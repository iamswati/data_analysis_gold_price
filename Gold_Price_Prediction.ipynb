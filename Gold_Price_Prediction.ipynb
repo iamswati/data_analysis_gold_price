{
  "nbformat": 4,
  "nbformat_minor": 0,
  "metadata": {
    "colab": {
      "name": "Gold Price Prediction.ipynb",
      "provenance": [],
      "collapsed_sections": []
    },
    "kernelspec": {
      "name": "python3",
      "display_name": "Python 3"
    },
    "language_info": {
      "name": "python"
    }
  },
  "cells": [
    {
      "cell_type": "markdown",
      "metadata": {
        "id": "YID-dSNEkEi1"
      },
      "source": [
        "# Gold Price Prediction Using Machine Learning"
      ]
    },
    {
      "cell_type": "markdown",
      "metadata": {
        "id": "K9ORB0-skwLA"
      },
      "source": [
        "This Notebook deals with prediction of gold prices. The data contains features regarding the Gold Price Data."
      ]
    },
    {
      "cell_type": "markdown",
      "metadata": {
        "id": "JsN2AsOak_EA"
      },
      "source": [
        "## Objectives\n",
        "\n",
        "* The main goal of this notebook is to build a machine learning system that can predict GLD (gold) prices based on several other stock prices.\n",
        "* Obtain data insights using pandas.\n",
        "* Find the correlation of the other features with GLD (gold) stock price.\n",
        "* Predict the GLD (gold) price by splitting the data and evaluate the model."
      ]
    },
    {
      "cell_type": "markdown",
      "metadata": {
        "id": "0ldLbLOTi5JG"
      },
      "source": [
        "## ABOUT THE DATA\n",
        "\n",
        "* **Data Overview:** This data file is a Comma separated value(CSV) file format with 2290 rows and 7 columns. It contains 5 columns which are numerical in datatype and one column in Date format. Clearly, the data shows the value of the variables SPX, GLD, USO, SLV, EUR/USD against the dates in the date column.\n",
        "* Data Source: [Link](https://www.kaggle.com/altruistdelhite04/gold-price-data)\n",
        "* Data type available: .csv"
      ]
    },
    {
      "cell_type": "code",
      "metadata": {
        "id": "cZ5hnpRWgpYU"
      },
      "source": [
        "# Import required libraries\n",
        "import pandas as pd                                          #Load data & perform basic operations\n",
        "import numpy as np                                           #Numpy Arrays\n",
        "import matplotlib.pyplot as plt                              #Matplotlib is a low level graph plotting library in python that serves as a visualization utility.\n",
        "import seaborn as sns                                        #Seaborn is a library that uses Matplotlib underneath to plot graphs. It will be used to visualize random distributions.\n",
        "from sklearn.model_selection import train_test_split         #Use to split the original data into training data & test data\n",
        "from sklearn.ensemble import RandomForestRegressor           #Import Random Forest Regression Model\n",
        "from sklearn import metrics                                  #Useful for finding performance of model"
      ],
      "execution_count": 3,
      "outputs": []
    },
    {
      "cell_type": "markdown",
      "metadata": {
        "id": "O2j83FTgzKrY"
      },
      "source": [
        "1. Data Collection & processing"
      ]
    },
    {
      "cell_type": "code",
      "metadata": {
        "id": "72YNNI14wLhp"
      },
      "source": [
        "# Loading the gold_price_data.csv data\n",
        "gold_price = pd.read_csv(\"/content/gld_price_data.csv\")"
      ],
      "execution_count": 4,
      "outputs": []
    },
    {
      "cell_type": "code",
      "metadata": {
        "colab": {
          "base_uri": "https://localhost:8080/",
          "height": 419
        },
        "id": "S-0vZWISzsqB",
        "outputId": "4a5cf90c-1846-4138-c0af-c5a6b4784854"
      },
      "source": [
        "# View top 5 & last 5 rows\n",
        "gold_price"
      ],
      "execution_count": 5,
      "outputs": [
        {
          "output_type": "execute_result",
          "data": {
            "text/html": [
              "<div>\n",
              "<style scoped>\n",
              "    .dataframe tbody tr th:only-of-type {\n",
              "        vertical-align: middle;\n",
              "    }\n",
              "\n",
              "    .dataframe tbody tr th {\n",
              "        vertical-align: top;\n",
              "    }\n",
              "\n",
              "    .dataframe thead th {\n",
              "        text-align: right;\n",
              "    }\n",
              "</style>\n",
              "<table border=\"1\" class=\"dataframe\">\n",
              "  <thead>\n",
              "    <tr style=\"text-align: right;\">\n",
              "      <th></th>\n",
              "      <th>Date</th>\n",
              "      <th>SPX</th>\n",
              "      <th>GLD</th>\n",
              "      <th>USO</th>\n",
              "      <th>SLV</th>\n",
              "      <th>EUR/USD</th>\n",
              "    </tr>\n",
              "  </thead>\n",
              "  <tbody>\n",
              "    <tr>\n",
              "      <th>0</th>\n",
              "      <td>1/2/2008</td>\n",
              "      <td>1447.160034</td>\n",
              "      <td>84.860001</td>\n",
              "      <td>78.470001</td>\n",
              "      <td>15.1800</td>\n",
              "      <td>1.471692</td>\n",
              "    </tr>\n",
              "    <tr>\n",
              "      <th>1</th>\n",
              "      <td>1/3/2008</td>\n",
              "      <td>1447.160034</td>\n",
              "      <td>85.570000</td>\n",
              "      <td>78.370003</td>\n",
              "      <td>15.2850</td>\n",
              "      <td>1.474491</td>\n",
              "    </tr>\n",
              "    <tr>\n",
              "      <th>2</th>\n",
              "      <td>1/4/2008</td>\n",
              "      <td>1411.630005</td>\n",
              "      <td>85.129997</td>\n",
              "      <td>77.309998</td>\n",
              "      <td>15.1670</td>\n",
              "      <td>1.475492</td>\n",
              "    </tr>\n",
              "    <tr>\n",
              "      <th>3</th>\n",
              "      <td>1/7/2008</td>\n",
              "      <td>1416.180054</td>\n",
              "      <td>84.769997</td>\n",
              "      <td>75.500000</td>\n",
              "      <td>15.0530</td>\n",
              "      <td>1.468299</td>\n",
              "    </tr>\n",
              "    <tr>\n",
              "      <th>4</th>\n",
              "      <td>1/8/2008</td>\n",
              "      <td>1390.189941</td>\n",
              "      <td>86.779999</td>\n",
              "      <td>76.059998</td>\n",
              "      <td>15.5900</td>\n",
              "      <td>1.557099</td>\n",
              "    </tr>\n",
              "    <tr>\n",
              "      <th>...</th>\n",
              "      <td>...</td>\n",
              "      <td>...</td>\n",
              "      <td>...</td>\n",
              "      <td>...</td>\n",
              "      <td>...</td>\n",
              "      <td>...</td>\n",
              "    </tr>\n",
              "    <tr>\n",
              "      <th>2285</th>\n",
              "      <td>5/8/2018</td>\n",
              "      <td>2671.919922</td>\n",
              "      <td>124.589996</td>\n",
              "      <td>14.060000</td>\n",
              "      <td>15.5100</td>\n",
              "      <td>1.186789</td>\n",
              "    </tr>\n",
              "    <tr>\n",
              "      <th>2286</th>\n",
              "      <td>5/9/2018</td>\n",
              "      <td>2697.790039</td>\n",
              "      <td>124.330002</td>\n",
              "      <td>14.370000</td>\n",
              "      <td>15.5300</td>\n",
              "      <td>1.184722</td>\n",
              "    </tr>\n",
              "    <tr>\n",
              "      <th>2287</th>\n",
              "      <td>5/10/2018</td>\n",
              "      <td>2723.070068</td>\n",
              "      <td>125.180000</td>\n",
              "      <td>14.410000</td>\n",
              "      <td>15.7400</td>\n",
              "      <td>1.191753</td>\n",
              "    </tr>\n",
              "    <tr>\n",
              "      <th>2288</th>\n",
              "      <td>5/14/2018</td>\n",
              "      <td>2730.129883</td>\n",
              "      <td>124.489998</td>\n",
              "      <td>14.380000</td>\n",
              "      <td>15.5600</td>\n",
              "      <td>1.193118</td>\n",
              "    </tr>\n",
              "    <tr>\n",
              "      <th>2289</th>\n",
              "      <td>5/16/2018</td>\n",
              "      <td>2725.780029</td>\n",
              "      <td>122.543800</td>\n",
              "      <td>14.405800</td>\n",
              "      <td>15.4542</td>\n",
              "      <td>1.182033</td>\n",
              "    </tr>\n",
              "  </tbody>\n",
              "</table>\n",
              "<p>2290 rows × 6 columns</p>\n",
              "</div>"
            ],
            "text/plain": [
              "           Date          SPX         GLD        USO      SLV   EUR/USD\n",
              "0      1/2/2008  1447.160034   84.860001  78.470001  15.1800  1.471692\n",
              "1      1/3/2008  1447.160034   85.570000  78.370003  15.2850  1.474491\n",
              "2      1/4/2008  1411.630005   85.129997  77.309998  15.1670  1.475492\n",
              "3      1/7/2008  1416.180054   84.769997  75.500000  15.0530  1.468299\n",
              "4      1/8/2008  1390.189941   86.779999  76.059998  15.5900  1.557099\n",
              "...         ...          ...         ...        ...      ...       ...\n",
              "2285   5/8/2018  2671.919922  124.589996  14.060000  15.5100  1.186789\n",
              "2286   5/9/2018  2697.790039  124.330002  14.370000  15.5300  1.184722\n",
              "2287  5/10/2018  2723.070068  125.180000  14.410000  15.7400  1.191753\n",
              "2288  5/14/2018  2730.129883  124.489998  14.380000  15.5600  1.193118\n",
              "2289  5/16/2018  2725.780029  122.543800  14.405800  15.4542  1.182033\n",
              "\n",
              "[2290 rows x 6 columns]"
            ]
          },
          "metadata": {},
          "execution_count": 5
        }
      ]
    },
    {
      "cell_type": "markdown",
      "metadata": {
        "id": "CAJbW1qs0EgZ"
      },
      "source": [
        " Data consists of various GLD (gold) prices for several days in the period of 10 years [Date- MM/DD/YYYY].\n",
        "\n",
        "* **SPX -** The Standard and Poor's 500, or simply the S&P 500, is a stock market index tracking the performance of 500 large companies listed on stock exchanges in the United States.\n",
        "* **GLD -** SPDR Gold Shares is part of the SPDR family of exchange-traded funds (ETF) managed and marketed by State Street Global Advisors.\n",
        "* **USO -** The United States Oil Fund ® LP (USO) is an exchange-traded security whose shares may be purchased and sold on the NYSE Arca.\n",
        "* **SLV -** The iShares Silver Trust (SLV) is an exchange traded fund (ETF) that tracks the price performance of the underlying holdings in the LMBA Silver Price.\n",
        "* **EUR/USD -** The Currency Pair EUR/USD is the shortened term for the euro against U.S. dollar pair, or cross for the currencies of the European Union (EU) and the United States (USD). The value of the EUR/USD pair is quoted as 1 euro per x U.S. dollars. For example, if the pair is trading at 1.50, it means it takes 1.5 U.S. dollars to buy 1 euro."
      ]
    },
    {
      "cell_type": "code",
      "metadata": {
        "colab": {
          "base_uri": "https://localhost:8080/"
        },
        "id": "iiwLOS3uzsl3",
        "outputId": "391a0411-4e86-4892-fa7b-4bd8d68388a9"
      },
      "source": [
        "# Number of rows & columns\n",
        "gold_price.shape"
      ],
      "execution_count": 6,
      "outputs": [
        {
          "output_type": "execute_result",
          "data": {
            "text/plain": [
              "(2290, 6)"
            ]
          },
          "metadata": {},
          "execution_count": 6
        }
      ]
    },
    {
      "cell_type": "code",
      "metadata": {
        "colab": {
          "base_uri": "https://localhost:8080/"
        },
        "id": "56EjSIwwzsh3",
        "outputId": "f74e3abf-6b07-4772-90c5-e0bd609f8b82"
      },
      "source": [
        "# Getting some basic info\n",
        "gold_price.info()"
      ],
      "execution_count": 7,
      "outputs": [
        {
          "output_type": "stream",
          "text": [
            "<class 'pandas.core.frame.DataFrame'>\n",
            "RangeIndex: 2290 entries, 0 to 2289\n",
            "Data columns (total 6 columns):\n",
            " #   Column   Non-Null Count  Dtype  \n",
            "---  ------   --------------  -----  \n",
            " 0   Date     2290 non-null   object \n",
            " 1   SPX      2290 non-null   float64\n",
            " 2   GLD      2290 non-null   float64\n",
            " 3   USO      2290 non-null   float64\n",
            " 4   SLV      2290 non-null   float64\n",
            " 5   EUR/USD  2290 non-null   float64\n",
            "dtypes: float64(5), object(1)\n",
            "memory usage: 107.5+ KB\n"
          ],
          "name": "stdout"
        }
      ]
    },
    {
      "cell_type": "code",
      "metadata": {
        "colab": {
          "base_uri": "https://localhost:8080/"
        },
        "id": "JZo89vJbzsex",
        "outputId": "d05b6b3f-c270-4bd0-b061-9e0da0a9db81"
      },
      "source": [
        "# Checking number of missing values\n",
        "gold_price.isnull().sum()"
      ],
      "execution_count": 8,
      "outputs": [
        {
          "output_type": "execute_result",
          "data": {
            "text/plain": [
              "Date       0\n",
              "SPX        0\n",
              "GLD        0\n",
              "USO        0\n",
              "SLV        0\n",
              "EUR/USD    0\n",
              "dtype: int64"
            ]
          },
          "metadata": {},
          "execution_count": 8
        }
      ]
    },
    {
      "cell_type": "markdown",
      "metadata": {
        "id": "n8AEPxHY6XFq"
      },
      "source": [
        "Data does not contain any missing values"
      ]
    },
    {
      "cell_type": "code",
      "metadata": {
        "colab": {
          "base_uri": "https://localhost:8080/",
          "height": 297
        },
        "id": "j1yVCINhp8x1",
        "outputId": "be7a41e2-6993-4f7b-f226-4e9a0a581760"
      },
      "source": [
        "# Getting statistical measures of the data\n",
        "gold_price.describe()"
      ],
      "execution_count": 9,
      "outputs": [
        {
          "output_type": "execute_result",
          "data": {
            "text/html": [
              "<div>\n",
              "<style scoped>\n",
              "    .dataframe tbody tr th:only-of-type {\n",
              "        vertical-align: middle;\n",
              "    }\n",
              "\n",
              "    .dataframe tbody tr th {\n",
              "        vertical-align: top;\n",
              "    }\n",
              "\n",
              "    .dataframe thead th {\n",
              "        text-align: right;\n",
              "    }\n",
              "</style>\n",
              "<table border=\"1\" class=\"dataframe\">\n",
              "  <thead>\n",
              "    <tr style=\"text-align: right;\">\n",
              "      <th></th>\n",
              "      <th>SPX</th>\n",
              "      <th>GLD</th>\n",
              "      <th>USO</th>\n",
              "      <th>SLV</th>\n",
              "      <th>EUR/USD</th>\n",
              "    </tr>\n",
              "  </thead>\n",
              "  <tbody>\n",
              "    <tr>\n",
              "      <th>count</th>\n",
              "      <td>2290.000000</td>\n",
              "      <td>2290.000000</td>\n",
              "      <td>2290.000000</td>\n",
              "      <td>2290.000000</td>\n",
              "      <td>2290.000000</td>\n",
              "    </tr>\n",
              "    <tr>\n",
              "      <th>mean</th>\n",
              "      <td>1654.315776</td>\n",
              "      <td>122.732875</td>\n",
              "      <td>31.842221</td>\n",
              "      <td>20.084997</td>\n",
              "      <td>1.283653</td>\n",
              "    </tr>\n",
              "    <tr>\n",
              "      <th>std</th>\n",
              "      <td>519.111540</td>\n",
              "      <td>23.283346</td>\n",
              "      <td>19.523517</td>\n",
              "      <td>7.092566</td>\n",
              "      <td>0.131547</td>\n",
              "    </tr>\n",
              "    <tr>\n",
              "      <th>min</th>\n",
              "      <td>676.530029</td>\n",
              "      <td>70.000000</td>\n",
              "      <td>7.960000</td>\n",
              "      <td>8.850000</td>\n",
              "      <td>1.039047</td>\n",
              "    </tr>\n",
              "    <tr>\n",
              "      <th>25%</th>\n",
              "      <td>1239.874969</td>\n",
              "      <td>109.725000</td>\n",
              "      <td>14.380000</td>\n",
              "      <td>15.570000</td>\n",
              "      <td>1.171313</td>\n",
              "    </tr>\n",
              "    <tr>\n",
              "      <th>50%</th>\n",
              "      <td>1551.434998</td>\n",
              "      <td>120.580002</td>\n",
              "      <td>33.869999</td>\n",
              "      <td>17.268500</td>\n",
              "      <td>1.303296</td>\n",
              "    </tr>\n",
              "    <tr>\n",
              "      <th>75%</th>\n",
              "      <td>2073.010070</td>\n",
              "      <td>132.840004</td>\n",
              "      <td>37.827501</td>\n",
              "      <td>22.882499</td>\n",
              "      <td>1.369971</td>\n",
              "    </tr>\n",
              "    <tr>\n",
              "      <th>max</th>\n",
              "      <td>2872.870117</td>\n",
              "      <td>184.589996</td>\n",
              "      <td>117.480003</td>\n",
              "      <td>47.259998</td>\n",
              "      <td>1.598798</td>\n",
              "    </tr>\n",
              "  </tbody>\n",
              "</table>\n",
              "</div>"
            ],
            "text/plain": [
              "               SPX          GLD          USO          SLV      EUR/USD\n",
              "count  2290.000000  2290.000000  2290.000000  2290.000000  2290.000000\n",
              "mean   1654.315776   122.732875    31.842221    20.084997     1.283653\n",
              "std     519.111540    23.283346    19.523517     7.092566     0.131547\n",
              "min     676.530029    70.000000     7.960000     8.850000     1.039047\n",
              "25%    1239.874969   109.725000    14.380000    15.570000     1.171313\n",
              "50%    1551.434998   120.580002    33.869999    17.268500     1.303296\n",
              "75%    2073.010070   132.840004    37.827501    22.882499     1.369971\n",
              "max    2872.870117   184.589996   117.480003    47.259998     1.598798"
            ]
          },
          "metadata": {},
          "execution_count": 9
        }
      ]
    },
    {
      "cell_type": "markdown",
      "metadata": {
        "id": "P7iIM9tEACqS"
      },
      "source": [
        "2. Correlation:\n",
        "\n",
        "* **Positive Correlation -** Are cases, if 1 value increases other value also increases. A correlation of *1.0 indicates a perfect positive correlation.*\n",
        "* **Negative Correlation -** Are cases, if 1 value increases other value decreases. A correlation of *-1.0 indicates a perfect negative correlation.*\n",
        "* **Zero Correlation -** A value of *zero indicates that there is no relationship between the two variables.*"
      ]
    },
    {
      "cell_type": "code",
      "metadata": {
        "id": "k-xLjWswHGFi"
      },
      "source": [
        "correlation = gold_price.corr()"
      ],
      "execution_count": 10,
      "outputs": []
    },
    {
      "cell_type": "code",
      "metadata": {
        "colab": {
          "base_uri": "https://localhost:8080/",
          "height": 487
        },
        "id": "ICwrlJK5BSWV",
        "outputId": "521b1a11-8698-405c-8ceb-82dc07e0e281"
      },
      "source": [
        "#Constructing a heatmap to understand the values\n",
        "plt.figure(figsize = (8, 8))  \n",
        "sns.heatmap(correlation, cbar=True, square=True, fmt=\".1f\", annot=True, annot_kws={'size' : 8}, cmap=\"Greens\")"
      ],
      "execution_count": 11,
      "outputs": [
        {
          "output_type": "execute_result",
          "data": {
            "text/plain": [
              "<matplotlib.axes._subplots.AxesSubplot at 0x7f4b9b62d410>"
            ]
          },
          "metadata": {},
          "execution_count": 11
        },
        {
          "output_type": "display_data",
          "data": {
            "image/png": "[encoded data removed]",
            "text/plain": [
              "<Figure size 576x576 with 2 Axes>"
            ]
          },
          "metadata": {
            "needs_background": "light"
          }
        }
      ]
    },
    {
      "cell_type": "markdown",
      "metadata": {
        "id": "KlsU0K8jLTpA"
      },
      "source": [
        "Conclusion:\n",
        "\n",
        "* Gold (GLD) and silver (SLV) are highly corelated to each other -> 0.9\n",
        "* Gold (GLD) and Standard and Poor's 500 (SPX) are zero correlation -> 0.0\n",
        "* Rest features expect gold (GLD) are negative correlated with respect to gold (GLD) -> -0.0 & -0.2"
      ]
    },
    {
      "cell_type": "code",
      "metadata": {
        "colab": {
          "base_uri": "https://localhost:8080/"
        },
        "id": "NeHG0cB46id-",
        "outputId": "fcb8cf9a-1345-43f7-c0ce-ca5e32598c09"
      },
      "source": [
        "# Correlation values of GLD (gold)\n",
        "correlation['GLD']"
      ],
      "execution_count": 12,
      "outputs": [
        {
          "output_type": "execute_result",
          "data": {
            "text/plain": [
              "SPX        0.049345\n",
              "GLD        1.000000\n",
              "USO       -0.186360\n",
              "SLV        0.866632\n",
              "EUR/USD   -0.024375\n",
              "Name: GLD, dtype: float64"
            ]
          },
          "metadata": {},
          "execution_count": 12
        }
      ]
    },
    {
      "cell_type": "code",
      "metadata": {
        "colab": {
          "base_uri": "https://localhost:8080/",
          "height": 354
        },
        "id": "WI4TDR7HIRzQ",
        "outputId": "55fb54f0-68d9-4a0c-d39d-855a34605196"
      },
      "source": [
        "#  Checking the distribution of GLD price\n",
        "sns.distplot(gold_price[\"GLD\"], hist=True, kde=True, color=\"Red\")"
      ],
      "execution_count": 13,
      "outputs": [
        {
          "output_type": "stream",
          "text": [
            "/usr/local/lib/python3.7/dist-packages/seaborn/distributions.py:2557: FutureWarning: `distplot` is a deprecated function and will be removed in a future version. Please adapt your code to use either `displot` (a figure-level function with similar flexibility) or `histplot` (an axes-level function for histograms).\n",
            "  warnings.warn(msg, FutureWarning)\n"
          ],
          "name": "stderr"
        },
        {
          "output_type": "execute_result",
          "data": {
            "text/plain": [
              "<matplotlib.axes._subplots.AxesSubplot at 0x7f4b93099150>"
            ]
          },
          "metadata": {},
          "execution_count": 13
        },
        {
          "output_type": "display_data",
          "data": {
            "image/png": "[encoded data removed]",
            "text/plain": [
              "<Figure size 432x288 with 1 Axes>"
            ]
          },
          "metadata": {
            "needs_background": "light"
          }
        }
      ]
    },
    {
      "cell_type": "markdown",
      "metadata": {
        "id": "L-52cYhkP8by"
      },
      "source": [
        "From Distribution Plot, I conclude that most of the values lie in the range of 120, and less values lie in 90 and 180 & bump in 100 and near 140."
      ]
    },
    {
      "cell_type": "markdown",
      "metadata": {
        "id": "QrSvFpPERC8R"
      },
      "source": [
        "3. Splitting the Features and Target\n",
        "\n",
        "* Traget - GLD (gold) price stock\n",
        "\n",
        "* Features - Other stocks"
      ]
    },
    {
      "cell_type": "code",
      "metadata": {
        "id": "NrOJ4Dl4PeAW"
      },
      "source": [
        "# axis = 1 (Columns)\n",
        "# axis = 0 (Rows)\n",
        "X = gold_price.drop([\"Date\", \"GLD\"], axis = 1)\n",
        "Y = gold_price[\"GLD\"]"
      ],
      "execution_count": 14,
      "outputs": []
    },
    {
      "cell_type": "code",
      "metadata": {
        "colab": {
          "base_uri": "https://localhost:8080/"
        },
        "id": "2IgjOCS3SVCS",
        "outputId": "4c9ab513-f468-43a1-f8ee-36d976d853c9"
      },
      "source": [
        "print(X, \"Remove two columns-> Date & GLD\")"
      ],
      "execution_count": 15,
      "outputs": [
        {
          "output_type": "stream",
          "text": [
            "              SPX        USO      SLV   EUR/USD\n",
            "0     1447.160034  78.470001  15.1800  1.471692\n",
            "1     1447.160034  78.370003  15.2850  1.474491\n",
            "2     1411.630005  77.309998  15.1670  1.475492\n",
            "3     1416.180054  75.500000  15.0530  1.468299\n",
            "4     1390.189941  76.059998  15.5900  1.557099\n",
            "...           ...        ...      ...       ...\n",
            "2285  2671.919922  14.060000  15.5100  1.186789\n",
            "2286  2697.790039  14.370000  15.5300  1.184722\n",
            "2287  2723.070068  14.410000  15.7400  1.191753\n",
            "2288  2730.129883  14.380000  15.5600  1.193118\n",
            "2289  2725.780029  14.405800  15.4542  1.182033\n",
            "\n",
            "[2290 rows x 4 columns] Remove two columns-> Date & GLD\n"
          ],
          "name": "stdout"
        }
      ]
    },
    {
      "cell_type": "code",
      "metadata": {
        "colab": {
          "base_uri": "https://localhost:8080/"
        },
        "id": "7Du3hlIGSb7g",
        "outputId": "2631bd46-7fe4-4ddf-ee4d-99b8269305fc"
      },
      "source": [
        "print(Y, \"Y contains GLD prices\")"
      ],
      "execution_count": 16,
      "outputs": [
        {
          "output_type": "stream",
          "text": [
            "0        84.860001\n",
            "1        85.570000\n",
            "2        85.129997\n",
            "3        84.769997\n",
            "4        86.779999\n",
            "           ...    \n",
            "2285    124.589996\n",
            "2286    124.330002\n",
            "2287    125.180000\n",
            "2288    124.489998\n",
            "2289    122.543800\n",
            "Name: GLD, Length: 2290, dtype: float64 Y contains GLD prices\n"
          ],
          "name": "stdout"
        }
      ]
    },
    {
      "cell_type": "markdown",
      "metadata": {
        "id": "oenQOwpRSsfH"
      },
      "source": [
        "Use other 4 stocks (SPX, USO, SLV, EUR/USD) to predict (GLD) gold price"
      ]
    },
    {
      "cell_type": "markdown",
      "metadata": {
        "id": "D1NxetUhEzdq"
      },
      "source": [
        "Spliting The Data Into Training Data & Test Data "
      ]
    },
    {
      "cell_type": "code",
      "metadata": {
        "id": "rifCKjJ_SrZJ"
      },
      "source": [
        "X_train, X_test, Y_train, Y_test = train_test_split(X, Y, test_size = 0.2, random_state = 2)"
      ],
      "execution_count": 17,
      "outputs": []
    },
    {
      "cell_type": "markdown",
      "metadata": {
        "id": "2_va17sVPBgi"
      },
      "source": [
        "Model Training: Random Forest Regressor\n",
        "\n",
        "* Random forest is an ensemble of decision trees. This is to say that many trees, constructed in a certain “random” way form a Random Forest. \n",
        "* Each tree is created from a different sample of rows and at each node, a different sample of features is selected for splitting. \n",
        "* Each of the trees makes its own individual prediction. \n",
        "* These predictions are then averaged to produce a single result."
      ]
    },
    {
      "cell_type": "code",
      "metadata": {
        "id": "hpWUJRuiMBNw"
      },
      "source": [
        "regressor = RandomForestRegressor(n_estimators=100)       #default no."
      ],
      "execution_count": 18,
      "outputs": []
    },
    {
      "cell_type": "code",
      "metadata": {
        "id": "Aps523pBLqnJ",
        "colab": {
          "base_uri": "https://localhost:8080/"
        },
        "outputId": "e1d98552-8149-446f-a42f-8090218d1ef4"
      },
      "source": [
        "# Training the model\n",
        "# .fit function used to fit our data to this regressive model\n",
        "regressor.fit(X_train, Y_train)"
      ],
      "execution_count": 19,
      "outputs": [
        {
          "output_type": "execute_result",
          "data": {
            "text/plain": [
              "RandomForestRegressor(bootstrap=True, ccp_alpha=0.0, criterion='mse',\n",
              "                      max_depth=None, max_features='auto', max_leaf_nodes=None,\n",
              "                      max_samples=None, min_impurity_decrease=0.0,\n",
              "                      min_impurity_split=None, min_samples_leaf=1,\n",
              "                      min_samples_split=2, min_weight_fraction_leaf=0.0,\n",
              "                      n_estimators=100, n_jobs=None, oob_score=False,\n",
              "                      random_state=None, verbose=0, warm_start=False)"
            ]
          },
          "metadata": {},
          "execution_count": 19
        }
      ]
    },
    {
      "cell_type": "markdown",
      "metadata": {
        "id": "2JKknBqDNNxO"
      },
      "source": [
        "Now, The Random Forest Regression Model is trained, and I use this trained model to make some predictions."
      ]
    },
    {
      "cell_type": "markdown",
      "metadata": {
        "id": "u_9PpNRhNy2x"
      },
      "source": [
        "4. Model Evaluation"
      ]
    },
    {
      "cell_type": "code",
      "metadata": {
        "id": "ZtelvWRKLY75"
      },
      "source": [
        "# Prediction on test data\n",
        "text_data_prediction = regressor.predict(X_test)"
      ],
      "execution_count": 20,
      "outputs": []
    },
    {
      "cell_type": "code",
      "metadata": {
        "colab": {
          "base_uri": "https://localhost:8080/"
        },
        "id": "EqF4V-iWOn-V",
        "outputId": "7deb7f16-04b4-4a58-e355-e4eb329136f9"
      },
      "source": [
        "text_data_prediction"
      ],
      "execution_count": 21,
      "outputs": [
        {
          "output_type": "execute_result",
          "data": {
            "text/plain": [
              "array([168.46619908,  82.23389983, 116.18470021, 127.6115012 ,\n",
              "       120.71460099, 154.78079784, 150.33589912, 126.00850066,\n",
              "       117.48129879, 126.04110061, 116.6537011 , 171.59720028,\n",
              "       141.93779847, 167.89709866, 115.15080018, 117.53160043,\n",
              "       140.09980271, 170.29810139, 159.95070262, 160.22240013,\n",
              "       155.13540034, 125.54380021, 176.07089975, 157.69620364,\n",
              "       125.22750043,  93.68129929,  77.87940001, 120.39480026,\n",
              "       119.05039911, 167.50869983,  88.30780068, 125.20519994,\n",
              "        91.128301  , 117.6705004 , 121.20009917, 136.1740012 ,\n",
              "       115.61780142, 115.40210052, 147.83340008, 107.23250106,\n",
              "       104.17730234,  87.29569818, 126.52920024, 118.01220013,\n",
              "       154.5154991 , 119.48520005, 108.31790005, 108.23079829,\n",
              "        93.14470027, 127.0732981 ,  74.68250035, 113.61429887,\n",
              "       121.4016999 , 111.15899924, 118.937399  , 120.63829923,\n",
              "       160.15970007, 168.38030118, 146.84689634,  86.10739869,\n",
              "        94.42010045,  86.82599875,  90.46650002, 119.02820059,\n",
              "       126.45310054, 127.67239982, 169.13649969, 122.33809921,\n",
              "       117.3906992 ,  98.46890001, 167.96410129, 143.47109807,\n",
              "       132.04070252, 121.33140243, 121.12569914, 119.88150036,\n",
              "       114.75010192, 118.35250066, 107.28510102, 127.97530075,\n",
              "       113.82590015, 107.32799983, 116.87890056, 119.71429888,\n",
              "        89.11620062,  88.15769876, 147.19470228, 127.15840022,\n",
              "       113.05750024, 110.17389851, 108.32529904,  76.98909926,\n",
              "       168.62630183, 114.00809906, 121.593299  , 127.66220141,\n",
              "       154.95539827,  91.7870996 , 135.63320097, 158.28520245,\n",
              "       125.14280083, 125.30130031, 130.59680212, 115.21290118,\n",
              "       119.77150007,  92.21320017, 110.30179878, 165.92089844,\n",
              "       157.25139879, 114.15439958, 106.54800151,  79.33520002,\n",
              "       113.26400052, 125.80490053, 107.58009937, 119.67170119,\n",
              "       155.58360293, 160.10139921, 120.29489979, 134.65800304,\n",
              "       101.33249976, 117.62919787, 119.29860036, 112.85420081,\n",
              "       102.7817993 , 160.14239778,  98.76800047, 148.81769991,\n",
              "       125.4955009 , 169.52669971, 126.07999846, 127.32759756,\n",
              "       127.28980137, 113.78519936, 113.0268008 , 123.72869904,\n",
              "       102.25919876,  89.46219998, 124.52729943, 101.80139928,\n",
              "       107.11369955, 113.42470073, 117.1229005 ,  99.35609967,\n",
              "       121.57350042, 163.38899968,  87.38039856, 106.73069979,\n",
              "       116.9629011 , 127.68230161, 124.21380084,  80.96459892,\n",
              "       120.41480087, 158.27619766,  87.97499963, 110.29849909,\n",
              "       118.78319919, 172.04129874, 102.98519927, 105.51990065,\n",
              "       122.56330055, 158.08799728,  87.54409856,  93.08050066,\n",
              "       112.50970013, 177.62989997, 114.33049957, 119.2566003 ,\n",
              "        94.50410087, 126.00789998, 165.85230084, 114.88280068,\n",
              "       116.48970139,  88.18779866, 148.88160079, 120.32049956,\n",
              "        89.77260027, 112.10580011, 117.23000062, 118.65350101,\n",
              "        88.11599942,  94.11720001, 117.19220043, 118.43620214,\n",
              "       120.43440019, 126.897498  , 121.91189981, 149.24960005,\n",
              "       164.24390105, 118.47649963, 120.34280128, 150.91630034,\n",
              "       118.29549906, 172.97349843, 105.66209916, 105.0234011 ,\n",
              "       149.38960097, 113.83570049, 124.74270119, 146.87620086,\n",
              "       119.75060098, 115.27380058, 112.19840013, 113.37720242,\n",
              "       141.11580099, 117.74329785, 102.90280058, 115.90440147,\n",
              "       103.50410176,  98.79850023, 117.08190079,  90.6195001 ,\n",
              "        91.52940023, 153.0084989 , 102.60170021, 154.00020074,\n",
              "       114.47120174, 138.1493019 ,  90.13599785, 115.49909924,\n",
              "       114.32619973, 122.76580001, 121.7927001 , 165.32160167,\n",
              "        93.01399917, 135.84590185, 121.29799938, 120.86510062,\n",
              "       104.61359995, 141.36140322, 121.70049897, 116.75740044,\n",
              "       113.53270117, 127.31509715, 122.75009957, 125.81529917,\n",
              "       121.1848004 ,  87.03419907, 132.43520179, 144.98420147,\n",
              "        92.65269957, 159.87669965, 158.36890265, 126.30429909,\n",
              "       164.45549944, 108.85589939, 110.05900127, 103.69129864,\n",
              "        94.2977002 , 127.45840256, 107.20190031, 163.14990003,\n",
              "       121.55460026, 132.08159946, 130.57760185, 161.16519937,\n",
              "        90.02339802, 175.76620172, 127.85560031, 126.90169846,\n",
              "        86.57289907, 124.47009936, 150.39949734,  89.63340036,\n",
              "       106.90759975, 109.21399967,  84.9162988 , 136.13709954,\n",
              "       155.29650193, 138.13090362,  73.69340038, 152.25810118,\n",
              "       126.03690034, 126.69040042, 127.41429941, 108.54869961,\n",
              "       156.26220029, 114.63960115, 116.89390175, 125.17009948,\n",
              "       154.18690119, 121.2722003 , 156.35159927,  92.83810056,\n",
              "       125.56800164, 125.82130074,  88.12390083,  92.19919924,\n",
              "       126.35369928, 128.14450301, 112.87270118, 117.72719769,\n",
              "       120.93390011, 127.21309766, 119.75970091, 136.27400147,\n",
              "        93.90769942, 119.8454003 , 113.39520074,  94.24909944,\n",
              "       108.63099991,  86.93659929, 109.42809943,  89.66829954,\n",
              "        92.62419994, 131.62060336, 162.49710029,  89.09840028,\n",
              "       119.70010092, 133.51910201, 124.03000039, 128.46310197,\n",
              "       102.0012985 ,  89.03709865, 131.82530066, 119.99450029,\n",
              "       108.53530026, 168.62630175, 115.12740018,  86.71259904,\n",
              "       118.84690069,  91.08729981, 161.98570061, 116.60760025,\n",
              "       121.60410014, 160.26029796, 120.09589933, 112.60349931,\n",
              "       108.45389868, 126.50960017,  75.91860025, 103.0191998 ,\n",
              "       127.44670215, 121.88499898,  92.70549973, 132.03870132,\n",
              "       118.28540098, 115.97359982, 154.44280268, 159.78480058,\n",
              "       110.04239984, 155.83439847, 119.23070067, 160.46060064,\n",
              "       118.81130064, 157.70509956, 115.15829952, 116.50630035,\n",
              "       149.05679817, 114.87830096, 125.85309864, 166.45019973,\n",
              "       117.82030003, 125.16009909, 153.09070359, 153.5523019 ,\n",
              "       132.14450083, 114.91660047, 121.34650218, 125.22090063,\n",
              "        89.89610039, 122.74290033, 155.07950181, 111.78000061,\n",
              "       106.75079975, 162.19300192, 118.52779998, 165.82609985,\n",
              "       134.02310091, 114.65779964, 153.00119887, 168.57399993,\n",
              "       115.61790007, 114.0858011 , 158.16379933,  85.45469854,\n",
              "       127.12760096, 128.00570094, 128.9202998 , 124.25490046,\n",
              "       124.18610102,  90.73110023, 153.26909939,  97.10819987,\n",
              "       138.45760045,  89.23559944, 107.19610003, 115.06370044,\n",
              "       112.87100079, 124.3421994 ,  91.41229867, 125.19010104,\n",
              "       162.25679907, 119.92109882, 165.08320131, 126.9499979 ,\n",
              "       112.19110024, 127.49139948,  94.77449878,  90.9306998 ,\n",
              "       103.06739913, 120.79100017,  83.41109938, 126.21720005,\n",
              "       160.69410439, 117.23330089, 118.17539972, 119.76310031,\n",
              "       123.07729941, 120.11020111, 121.38729983, 117.91190047,\n",
              "       107.07089947, 148.14549966, 126.48159806, 115.59190094,\n",
              "        73.95400009, 127.79870071, 153.30840094, 121.99019988,\n",
              "       125.61090097,  88.82060031, 103.26189859, 124.66230043,\n",
              "       120.18340019,  73.29710096, 150.93490005, 121.30550047,\n",
              "       104.71120006,  86.45619767, 115.05439907, 172.14349839,\n",
              "       119.65610037, 159.63929842, 113.1837999 , 120.94159996,\n",
              "       118.82020092,  95.91089984, 118.94429944, 125.77800025,\n",
              "       118.41599931,  95.72510033, 153.76410182, 122.04460019,\n",
              "       148.25549947, 158.29760214, 114.27950005, 122.57609913,\n",
              "       150.27029852, 127.42490047, 166.04329978, 136.07539968,\n",
              "       120.10559974, 167.68059879, 108.2739992 , 121.69619864,\n",
              "       139.35130124, 106.78229887])"
            ]
          },
          "metadata": {},
          "execution_count": 21
        }
      ]
    },
    {
      "cell_type": "code",
      "metadata": {
        "colab": {
          "base_uri": "https://localhost:8080/"
        },
        "id": "J0sV69lfOvAj",
        "outputId": "39d37adb-a3d5-48ed-ed7e-9b6d447fed42"
      },
      "source": [
        "# R-squared is a statistical measure of how close the data are to the fitted regression line.\n",
        "error_score = metrics.r2_score(Y_test, text_data_prediction)\n",
        "print(\"R scored error : \", error_score)"
      ],
      "execution_count": 22,
      "outputs": [
        {
          "output_type": "stream",
          "text": [
            "R scored error :  0.9889171379556846\n"
          ],
          "name": "stdout"
        }
      ]
    },
    {
      "cell_type": "markdown",
      "metadata": {
        "id": "5pD594pgiq6x"
      },
      "source": [
        "Compare the Actual Values & Predicted Values in a Plot"
      ]
    },
    {
      "cell_type": "code",
      "metadata": {
        "id": "ANC6NvXQP6XH"
      },
      "source": [
        "Y_test = list(Y_test)"
      ],
      "execution_count": 23,
      "outputs": []
    },
    {
      "cell_type": "code",
      "metadata": {
        "colab": {
          "base_uri": "https://localhost:8080/",
          "height": 295
        },
        "id": "fA4jgk3Bi9nH",
        "outputId": "d1c6e73c-939b-4320-df93-2ad553c61322"
      },
      "source": [
        "plt.plot(Y_test, color = 'Blue', label = \"Actual Values\")                                   #Real Values\n",
        "plt.plot(text_data_prediction, color = 'Green', label = \"Predicted Values\")                 #Predicted Values\n",
        "plt.title(\"Actual Values vs Predicted Values\")\n",
        "plt.xlabel(\"Number Of Values\")\n",
        "plt.ylabel(\"GLD Price\")\n",
        "plt.legend()\n",
        "plt.show()"
      ],
      "execution_count": 24,
      "outputs": [
        {
          "output_type": "display_data",
          "data": {
            "image/png": "[encoded data removed]",
            "text/plain": [
              "<Figure size 432x288 with 1 Axes>"
            ]
          },
          "metadata": {
            "needs_background": "light"
          }
        }
      ]
    },
    {
      "cell_type": "markdown",
      "metadata": {
        "id": "u1pFvsO_fWxp"
      },
      "source": [
        "* R scored error: 0.98, which is very good.\n",
        "* As I compare actual values and predicted values are very close to each other."
      ]
    }
  ]
}